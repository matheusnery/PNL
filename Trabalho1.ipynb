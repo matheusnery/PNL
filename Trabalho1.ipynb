{
 "cells": [
  {
   "cell_type": "code",
   "execution_count": 12,
   "metadata": {},
   "outputs": [],
   "source": [
    "from __future__ import division\n",
    "from mpmath import *\n",
    "from sympy import init_printing\n",
    "from sympy import *\n",
    "import sympy as sp\n",
    "import matplotlib.pyplot as plt\n",
    "init_printing()\n",
    "x, y, alpha, xk = symbols('x y alpha xk') #define x e y, alpha e xk como variáveis simbólicas."
   ]
  },
  {
   "cell_type": "code",
   "execution_count": 26,
   "metadata": {},
   "outputs": [],
   "source": [
    "def f1(x,y): return ((x - 2)**4 + (x - 2*y)**2)\n",
    "ponto1 = [0, 3]\n",
    "direcao1 = [44, -24]\n",
    "direcao11 = [-44, 24]\n",
    "def f(x): return ((-44*x - 2)**4 + (-44*x - 2*(3+24*x))**2)\n",
    "\n",
    "\n",
    "def f2(x,y): return (100*(y-x**2)**2 + (1-x)**2)\n",
    "ponto2 = [-1.9, 2]\n",
    "direcao2 = [613, 161]\n",
    "\n",
    "\n",
    "def f3(x,y): return (1/2)*(x**4 -16*x**2 +5*x) + (1/2)*(y**4 -16*y**2 +5*y)\n",
    "ponto3 = [0, 0.5]\n",
    "direcao3 = [-2.5, 5.25]"
   ]
  },
  {
   "cell_type": "code",
   "execution_count": 71,
   "metadata": {},
   "outputs": [],
   "source": [
    "def Q1(func, direcao, ponto1):# passa como parametro a função e as direções\n",
    "    pt1 = ponto1[0]\n",
    "    pt2 = ponto1[1]\n",
    "    d1 = direcao[0]\n",
    "    d2 = direcao[1]\n",
    "    newpt1 = pt1 + alpha*d1\n",
    "    newpt2 = pt2 + alpha*d2\n",
    "    b=sp.diff(f1(newpt1,newpt2),alpha) #substitui na função o novo ponto e deriva para encontrar o alpha\n",
    "    yy =sp.Eq(b,0) #resolve a derivada da função e iguala a zero para encontrar os zeros.\n",
    "    z = sp.solve(yy,alpha, verify = False) #resolve e retorna z como uma lista contendo as funções que resolvidas retornam o valor de alfa\n",
    "    lista =[]\n",
    "    listan=[]\n",
    "    alfa = 0\n",
    "    for i in z: # para toda função em z, \n",
    "        print(i.evalf())#resolve a função que é retornada\n",
    "        \n",
    "        if(check_assumptions(i.evalf(), real = True)):    #procura apenas as raizes reais             \n",
    "            a = i.evalf()\n",
    "            print(i.evalf())\n",
    "            print(\"*\")\n",
    "            if(a>0):\n",
    "                lista.append(i.evalf()) #adiciona a lista os valores reais de z\n",
    "            else:\n",
    "                listan.append(i.evalf())\n",
    "        print(\"********************************************************\")\n",
    "    if(len(lista) == 0):\n",
    "        alfa = min(listan)*(-1) #o alfa retorna o min dessa lista que é o tamanho do passo.\n",
    "        print(alfa)\n",
    "    else:\n",
    "        alfa = min(lista)\n",
    "        \n",
    "    return alfa"
   ]
  },
  {
   "cell_type": "code",
   "execution_count": 72,
   "metadata": {},
   "outputs": [
    {
     "name": "stdout",
     "output_type": "stream",
     "text": [
      "0.0374143937574238 - 0.0363735994416083*I\n",
      "********************************************************\n",
      "0.0374143937574238 + 0.0363735994416083*I\n",
      "********************************************************\n",
      "0.0615348488487887\n",
      "0.0615348488487887\n",
      "*\n",
      "********************************************************\n"
     ]
    },
    {
     "data": {
      "image/png": "[encoded data removed]",
      "text/latex": [
       "$$0.0615348488487887$$"
      ],
      "text/plain": [
       "0.0615348488487887"
      ]
     },
     "execution_count": 72,
     "metadata": {},
     "output_type": "execute_result"
    }
   ],
   "source": [
    "Q1(f1,direcao1,ponto1)\n",
    "#como pode ver para o ponto descrito no pdf ele encontra uma raiz complexa\n"
   ]
  },
  {
   "cell_type": "code",
   "execution_count": 73,
   "metadata": {},
   "outputs": [
    {
     "name": "stdout",
     "output_type": "stream",
     "text": [
      "-0.0374143937574238 + 0.0363735994416083*I\n",
      "********************************************************\n",
      "-0.0374143937574238 - 0.0363735994416083*I\n",
      "********************************************************\n",
      "-0.0615348488487887\n",
      "-0.0615348488487887\n",
      "*\n",
      "********************************************************\n",
      "0.0615348488487887\n"
     ]
    },
    {
     "data": {
      "image/png": "[encoded data removed]",
      "text/latex": [
       "$$0.0615348488487887$$"
      ],
      "text/plain": [
       "0.0615348488487887"
      ]
     },
     "execution_count": 73,
     "metadata": {},
     "output_type": "execute_result"
    }
   ],
   "source": [
    "Q1(f1,direcao11,ponto1) # auterando para a direção correta."
   ]
  },
  {
   "cell_type": "code",
   "execution_count": 74,
   "metadata": {},
   "outputs": [
    {
     "name": "stdout",
     "output_type": "stream",
     "text": [
      "0.00790991035092167\n",
      "0.00790991035092167\n",
      "*\n",
      "********************************************************\n",
      "0.00558827484085238 - 0.00144793671812617*I\n",
      "********************************************************\n",
      "0.00558827484085238 + 0.00144793671812617*I\n",
      "********************************************************\n"
     ]
    },
    {
     "data": {
      "image/png": "[encoded data removed]",
      "text/latex": [
       "$$0.00790991035092167$$"
      ],
      "text/plain": [
       "0.00790991035092167"
      ]
     },
     "execution_count": 74,
     "metadata": {},
     "output_type": "execute_result"
    }
   ],
   "source": [
    "Q1(f2,direcao2,ponto2)\n"
   ]
  },
  {
   "cell_type": "code",
   "execution_count": 75,
   "metadata": {},
   "outputs": [
    {
     "name": "stdout",
     "output_type": "stream",
     "text": [
      "-0.184641166693971\n",
      "-0.184641166693971\n",
      "*\n",
      "********************************************************\n",
      "-1.10767941665301 - 1.56435285990592*I\n",
      "********************************************************\n",
      "-1.10767941665301 + 1.56435285990592*I\n",
      "********************************************************\n",
      "0.184641166693971\n"
     ]
    },
    {
     "data": {
      "image/png": "[encoded data removed]",
      "text/latex": [
       "$$0.184641166693971$$"
      ],
      "text/plain": [
       "0.184641166693971"
      ]
     },
     "execution_count": 75,
     "metadata": {},
     "output_type": "execute_result"
    }
   ],
   "source": [
    "Q1(f3,direcao3,ponto3)"
   ]
  },
  {
   "cell_type": "code",
   "execution_count": 51,
   "metadata": {},
   "outputs": [],
   "source": [
    "def MG(func,ponto):    \n",
    "    pt1 = ponto[0]\n",
    "    pt2 = ponto[1]\n",
    "    for i in range(10):    \n",
    "        direct = []\n",
    "        #cálcula a derivada parcial em cada ponto e \n",
    "        #adiciona cada ponto na lista\n",
    "        a=sp.diff(func,x).subs(x,pt1).subs(y,pt2)\n",
    "        direct.append(a)\n",
    "        b = sp.diff(func,y).subs(x,pt1).subs(y,pt2)\n",
    "        direct.append(b)\n",
    "        d1 = direct[0]\n",
    "        d2 = direct[1]\n",
    "\n",
    "        newpt1 = pt1 + alpha*d1\n",
    "        newpt2 = pt2 + alpha*d2\n",
    "        b=sp.diff(f1(newpt1,newpt2),alpha)\n",
    "\n",
    "        yy = sp.Eq(b,0)\n",
    "        z = sp.solve(yy,alpha, verify = False)\n",
    "        \n",
    "        #alfa = z[0].evalf()\n",
    "        lista =[]\n",
    "        for i in z:\n",
    "            print(i.evalf())\n",
    "            print(len(z))\n",
    "            if(check_assumptions(i.evalf(), real = True)):                \n",
    "                print(i.evalf())\n",
    "                print(\"*\")\n",
    "                lista.append(i.evalf())\n",
    "        print(\"********************************************************\")\n",
    "        alfa = min(lista)\n",
    "        del lista[:]\n",
    "\n",
    "\n",
    "        newptx1 = pt1 + alfa*d1 #calcula o novo ponto x1 e x2\n",
    "        newptx2 = pt2 + alfa*d2 \n",
    "\n",
    "\n",
    "        pt1 = newptx1 #atualiza o pt1 e pt2 para a nova iteração\n",
    "        pt2 = newptx2\n",
    "    \n",
    "        del direct[:]\n",
    "       \n",
    "    return newptx1, newptx2\n",
    "    \n",
    "\n",
    "    "
   ]
  },
  {
   "cell_type": "code",
   "execution_count": 52,
   "metadata": {},
   "outputs": [
    {
     "name": "stdout",
     "output_type": "stream",
     "text": [
      "-0.122285403104409\n",
      "3\n",
      "-0.122285403104409\n",
      "*\n",
      "1.2611427015522 - 1.82459797587978*I\n",
      "3\n",
      "1.2611427015522 + 1.82459797587978*I\n",
      "3\n",
      "********************************************************\n",
      "-0.0557392127852287\n",
      "3\n",
      "-0.0557392127852287\n",
      "*\n",
      "-1.06087672126594 - 18.4001385160763*I\n",
      "3\n",
      "-1.06087672126594 + 18.4001385160763*I\n",
      "3\n",
      "********************************************************\n",
      "-0.00899847387184455\n",
      "3\n",
      "-0.00899847387184455\n",
      "*\n",
      "-9.15354647333609 - 13794.0604422447*I\n",
      "3\n",
      "-9.15354647333609 + 13794.0604422447*I\n",
      "3\n",
      "********************************************************\n",
      "-0.00206798880641725\n",
      "3\n",
      "-0.00206798880641725\n",
      "*\n",
      "-10.6925990232598 - 163185.881886059*I\n",
      "3\n",
      "-10.6925990232598 + 163185.881886059*I\n",
      "3\n",
      "********************************************************\n",
      "-0.000508764088515956\n",
      "3\n",
      "-0.000508764088515956\n",
      "*\n",
      "-11.0582938504214 - 1417871.31096878*I\n",
      "3\n",
      "-11.0582938504214 + 1417871.31096878*I\n",
      "3\n",
      "********************************************************\n",
      "-0.000126944194056497\n",
      "3\n",
      "-0.000126944194056497\n",
      "*\n",
      "-11.1489931327362 - 11550224.118334*I\n",
      "3\n",
      "-11.1489931327362 + 11550224.118334*I\n",
      "3\n",
      "********************************************************\n",
      "-3.17531902354147e-5\n",
      "3\n",
      "-3.17531902354147e-5\n",
      "*\n",
      "-11.1716695914888 - 92724009.7780378*I\n",
      "3\n",
      "-11.1716695914888 + 92724009.7780378*I\n",
      "3\n",
      "********************************************************\n",
      "-7.94345214904243e-6\n",
      "3\n",
      "-7.94345214904243e-6\n",
      "*\n",
      "-11.1773446272837 - 742056151.883332*I\n",
      "3\n",
      "-11.1773446272837 + 742056151.883332*I\n",
      "3\n",
      "********************************************************\n",
      "-1.98669661385167e-6\n",
      "3\n",
      "-1.98669661385167e-6\n",
      "*\n",
      "-11.1787644866708 - 5935450264.92737*I\n",
      "3\n",
      "-11.1787644866708 + 5935450264.92737*I\n",
      "3\n",
      "********************************************************\n",
      "-4.96790220428993e-7\n",
      "3\n",
      "-4.96790220428993e-7\n",
      "*\n",
      "-11.179119611741 - 47475492952.2118*I\n",
      "3\n",
      "-11.179119611741 + 47475492952.2118*I\n",
      "3\n",
      "********************************************************\n",
      "16099369.3623709\n"
     ]
    }
   ],
   "source": [
    "func = f3(x,y)\n",
    "a, b = MG(func,ponto1)\n",
    "print(f1(a,b))"
   ]
  },
  {
   "cell_type": "code",
   "execution_count": 50,
   "metadata": {},
   "outputs": [
    {
     "data": {
      "image/png": "[encoded data removed]",
      "text/latex": [
       "$$-8049.22609104583$$"
      ],
      "text/plain": [
       "-8049.22609104583"
      ]
     },
     "execution_count": 50,
     "metadata": {},
     "output_type": "execute_result"
    }
   ],
   "source": [
    "sp.diff(f1(x,y),x).subs(x,a).subs(y,b)"
   ]
  },
  {
   "cell_type": "code",
   "execution_count": 12,
   "metadata": {},
   "outputs": [
    {
     "data": {
      "image/png": "[encoded data removed]",
      "text/latex": [
       "$$9.89298559064267 \\cdot 10^{-5}$$"
      ],
      "text/plain": [
       "9.89298559064267e-5"
      ]
     },
     "execution_count": 12,
     "metadata": {},
     "output_type": "execute_result"
    }
   ],
   "source": []
  },
  {
   "cell_type": "code",
   "execution_count": 24,
   "metadata": {},
   "outputs": [
    {
     "ename": "SyntaxError",
     "evalue": "invalid syntax (<ipython-input-24-899446287e84>, line 27)",
     "output_type": "error",
     "traceback": [
      "\u001b[0;36m  File \u001b[0;32m\"<ipython-input-24-899446287e84>\"\u001b[0;36m, line \u001b[0;32m27\u001b[0m\n\u001b[0;31m    R = np.(x - 2)**4 + (x - 2*y)**2\u001b[0m\n\u001b[0m           ^\u001b[0m\n\u001b[0;31mSyntaxError\u001b[0m\u001b[0;31m:\u001b[0m invalid syntax\n"
     ]
    }
   ],
   "source": []
  },
  {
   "cell_type": "code",
   "execution_count": null,
   "metadata": {},
   "outputs": [],
   "source": [
    "\n"
   ]
  },
  {
   "cell_type": "code",
   "execution_count": null,
   "metadata": {},
   "outputs": [],
   "source": []
  },
  {
   "cell_type": "code",
   "execution_count": null,
   "metadata": {},
   "outputs": [],
   "source": []
  },
  {
   "cell_type": "code",
   "execution_count": null,
   "metadata": {},
   "outputs": [],
   "source": []
  },
  {
   "cell_type": "code",
   "execution_count": null,
   "metadata": {},
   "outputs": [],
   "source": [
    "def f(x):\n",
    "     return [x[0]  + 0.5 * (x[0] - x[1])**3 - 1.0, 0.5 * (x[1] - x[0])**3 + x[1]]\n",
    "    \n",
    "def func(x):\n",
    "    return [(x[0] - 2)**4 + (x[0] - 2*x[0])**2]\n",
    "    \n"
   ]
  },
  {
   "cell_type": "code",
   "execution_count": null,
   "metadata": {},
   "outputs": [],
   "source": [
    "yy = sp.Eq(x**2+5*x+3,0)\n",
    "z = sp.solve(yy,x)\n",
    "for i in z:\n",
    "    print(i.evalf())\n"
   ]
  },
  {
   "cell_type": "code",
   "execution_count": null,
   "metadata": {},
   "outputs": [],
   "source": []
  },
  {
   "cell_type": "code",
   "execution_count": null,
   "metadata": {},
   "outputs": [],
   "source": []
  },
  {
   "cell_type": "code",
   "execution_count": null,
   "metadata": {},
   "outputs": [],
   "source": []
  }
 ],
 "metadata": {
  "kernelspec": {
   "display_name": "Python 3",
   "language": "python",
   "name": "python3"
  },
  "language_info": {
   "codemirror_mode": {
    "name": "ipython",
    "version": 3
   },
   "file_extension": ".py",
   "mimetype": "text/x-python",
   "name": "python",
   "nbconvert_exporter": "python",
   "pygments_lexer": "ipython3",
   "version": "3.6.3"
  }
 },
 "nbformat": 4,
 "nbformat_minor": 2
}
